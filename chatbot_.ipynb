{
  "nbformat": 4,
  "nbformat_minor": 0,
  "metadata": {
    "colab": {
      "name": "chatbot@.ipynb",
      "provenance": [],
      "collapsed_sections": []
    },
    "kernelspec": {
      "name": "python3",
      "display_name": "Python 3"
    },
    "language_info": {
      "name": "python"
    }
  },
  "cells": [
    {
      "cell_type": "markdown",
      "source": [
        "RNN\n"
      ],
      "metadata": {
        "id": "D-OuKF8RMHdO"
      }
    },
    {
      "cell_type": "code",
      "execution_count": 2,
      "metadata": {
        "id": "0n1V2rcjjFPZ",
        "outputId": "b0735f46-e777-4ecb-9cb8-7986f0181673",
        "colab": {
          "base_uri": "https://localhost:8080/"
        }
      },
      "outputs": [
        {
          "output_type": "stream",
          "name": "stdout",
          "text": [
            "Drive already mounted at /content/drive; to attempt to forcibly remount, call drive.mount(\"/content/drive\", force_remount=True).\n"
          ]
        }
      ],
      "source": [
        "\n",
        "from google.colab import drive\n",
        "drive.mount('/content/drive')"
      ]
    },
    {
      "cell_type": "code",
      "source": [
        "import pandas as pd\n",
        "import numpy as np\n"
      ],
      "metadata": {
        "id": "Rf8y-m7djU5F"
      },
      "execution_count": 3,
      "outputs": []
    },
    {
      "cell_type": "code",
      "source": [
        "import nltk\n",
        "from nltk.stem import WordNetLemmatizer\n",
        "from nltk.corpus import stopwords\n",
        "\n",
        "from tensorflow.keras.utils import to_categorical\n",
        "import re \n",
        "\n"
      ],
      "metadata": {
        "colab": {
          "base_uri": "https://localhost:8080/"
        },
        "id": "bZbi7P07kOsK",
        "outputId": "4e8f7f23-db59-4bd0-ac9d-41328b7c733d"
      },
      "execution_count": 7,
      "outputs": [
        {
          "output_type": "stream",
          "name": "stdout",
          "text": [
            "[nltk_data] Downloading package wordnet to /root/nltk_data...\n",
            "[nltk_data]   Unzipping corpora/wordnet.zip.\n"
          ]
        },
        {
          "output_type": "execute_result",
          "data": {
            "text/plain": [
              "True"
            ]
          },
          "metadata": {},
          "execution_count": 7
        }
      ]
    },
    {
      "cell_type": "code",
      "source": [
        "nltk.download('wordnet')\n",
        "nltk.download(\"punkt\")"
      ],
      "metadata": {
        "colab": {
          "base_uri": "https://localhost:8080/"
        },
        "id": "sPU9RYA7kURF",
        "outputId": "f2b72e48-74f5-4e31-895c-d917e8239742"
      },
      "execution_count": 8,
      "outputs": [
        {
          "output_type": "stream",
          "name": "stdout",
          "text": [
            "[nltk_data] Downloading package wordnet to /root/nltk_data...\n",
            "[nltk_data]   Package wordnet is already up-to-date!\n",
            "[nltk_data] Downloading package punkt to /root/nltk_data...\n",
            "[nltk_data]   Unzipping tokenizers/punkt.zip.\n"
          ]
        },
        {
          "output_type": "execute_result",
          "data": {
            "text/plain": [
              "True"
            ]
          },
          "metadata": {},
          "execution_count": 8
        }
      ]
    },
    {
      "cell_type": "code",
      "source": [
        "data=pd.read_csv(\"/content/drive/MyDrive/chatbot/emotions.txt\",header=None,sep=\";\",names=[\"Text\",\"Sentiments\"])"
      ],
      "metadata": {
        "id": "jhrOIqtEmJ7d"
      },
      "execution_count": 20,
      "outputs": []
    },
    {
      "cell_type": "code",
      "source": [
        ""
      ],
      "metadata": {
        "colab": {
          "base_uri": "https://localhost:8080/",
          "height": 423
        },
        "id": "Nhzyow_9msTb",
        "outputId": "67ef61bc-d18f-49dd-ace3-8f0f2bc753b1"
      },
      "execution_count": 22,
      "outputs": [
        {
          "output_type": "execute_result",
          "data": {
            "text/plain": [
              "                                                  Text Sentiments\n",
              "0    im feeling rather rotten so im not very ambiti...    sadness\n",
              "1            im updating my blog because i feel shitty    sadness\n",
              "2    i never make her separate from me because i do...    sadness\n",
              "3    i left with my bouquet of red and yellow tulip...        joy\n",
              "4      i was feeling a little vain when i did this one    sadness\n",
              "..                                                 ...        ...\n",
              "980  im not sure how i feel more than anything im k...        joy\n",
              "981                    i also feel lethargic and again    sadness\n",
              "982  im feeling somewhat nostalgic about the game j...       love\n",
              "983  i don t feel like i should be punished to carr...    sadness\n",
              "984  i was feeling like i said humour gets me through         NaN\n",
              "\n",
              "[985 rows x 2 columns]"
            ],
            "text/html": [
              "\n",
              "  <div id=\"df-7fd56a44-575c-44e5-a879-98bc12f4cd5f\">\n",
              "    <div class=\"colab-df-container\">\n",
              "      <div>\n",
              "<style scoped>\n",
              "    .dataframe tbody tr th:only-of-type {\n",
              "        vertical-align: middle;\n",
              "    }\n",
              "\n",
              "    .dataframe tbody tr th {\n",
              "        vertical-align: top;\n",
              "    }\n",
              "\n",
              "    .dataframe thead th {\n",
              "        text-align: right;\n",
              "    }\n",
              "</style>\n",
              "<table border=\"1\" class=\"dataframe\">\n",
              "  <thead>\n",
              "    <tr style=\"text-align: right;\">\n",
              "      <th></th>\n",
              "      <th>Text</th>\n",
              "      <th>Sentiments</th>\n",
              "    </tr>\n",
              "  </thead>\n",
              "  <tbody>\n",
              "    <tr>\n",
              "      <th>0</th>\n",
              "      <td>im feeling rather rotten so im not very ambiti...</td>\n",
              "      <td>sadness</td>\n",
              "    </tr>\n",
              "    <tr>\n",
              "      <th>1</th>\n",
              "      <td>im updating my blog because i feel shitty</td>\n",
              "      <td>sadness</td>\n",
              "    </tr>\n",
              "    <tr>\n",
              "      <th>2</th>\n",
              "      <td>i never make her separate from me because i do...</td>\n",
              "      <td>sadness</td>\n",
              "    </tr>\n",
              "    <tr>\n",
              "      <th>3</th>\n",
              "      <td>i left with my bouquet of red and yellow tulip...</td>\n",
              "      <td>joy</td>\n",
              "    </tr>\n",
              "    <tr>\n",
              "      <th>4</th>\n",
              "      <td>i was feeling a little vain when i did this one</td>\n",
              "      <td>sadness</td>\n",
              "    </tr>\n",
              "    <tr>\n",
              "      <th>...</th>\n",
              "      <td>...</td>\n",
              "      <td>...</td>\n",
              "    </tr>\n",
              "    <tr>\n",
              "      <th>980</th>\n",
              "      <td>im not sure how i feel more than anything im k...</td>\n",
              "      <td>joy</td>\n",
              "    </tr>\n",
              "    <tr>\n",
              "      <th>981</th>\n",
              "      <td>i also feel lethargic and again</td>\n",
              "      <td>sadness</td>\n",
              "    </tr>\n",
              "    <tr>\n",
              "      <th>982</th>\n",
              "      <td>im feeling somewhat nostalgic about the game j...</td>\n",
              "      <td>love</td>\n",
              "    </tr>\n",
              "    <tr>\n",
              "      <th>983</th>\n",
              "      <td>i don t feel like i should be punished to carr...</td>\n",
              "      <td>sadness</td>\n",
              "    </tr>\n",
              "    <tr>\n",
              "      <th>984</th>\n",
              "      <td>i was feeling like i said humour gets me through</td>\n",
              "      <td>NaN</td>\n",
              "    </tr>\n",
              "  </tbody>\n",
              "</table>\n",
              "<p>985 rows × 2 columns</p>\n",
              "</div>\n",
              "      <button class=\"colab-df-convert\" onclick=\"convertToInteractive('df-7fd56a44-575c-44e5-a879-98bc12f4cd5f')\"\n",
              "              title=\"Convert this dataframe to an interactive table.\"\n",
              "              style=\"display:none;\">\n",
              "        \n",
              "  <svg xmlns=\"http://www.w3.org/2000/svg\" height=\"24px\"viewBox=\"0 0 24 24\"\n",
              "       width=\"24px\">\n",
              "    <path d=\"M0 0h24v24H0V0z\" fill=\"none\"/>\n",
              "    <path d=\"M18.56 5.44l.94 2.06.94-2.06 2.06-.94-2.06-.94-.94-2.06-.94 2.06-2.06.94zm-11 1L8.5 8.5l.94-2.06 2.06-.94-2.06-.94L8.5 2.5l-.94 2.06-2.06.94zm10 10l.94 2.06.94-2.06 2.06-.94-2.06-.94-.94-2.06-.94 2.06-2.06.94z\"/><path d=\"M17.41 7.96l-1.37-1.37c-.4-.4-.92-.59-1.43-.59-.52 0-1.04.2-1.43.59L10.3 9.45l-7.72 7.72c-.78.78-.78 2.05 0 2.83L4 21.41c.39.39.9.59 1.41.59.51 0 1.02-.2 1.41-.59l7.78-7.78 2.81-2.81c.8-.78.8-2.07 0-2.86zM5.41 20L4 18.59l7.72-7.72 1.47 1.35L5.41 20z\"/>\n",
              "  </svg>\n",
              "      </button>\n",
              "      \n",
              "  <style>\n",
              "    .colab-df-container {\n",
              "      display:flex;\n",
              "      flex-wrap:wrap;\n",
              "      gap: 12px;\n",
              "    }\n",
              "\n",
              "    .colab-df-convert {\n",
              "      background-color: #E8F0FE;\n",
              "      border: none;\n",
              "      border-radius: 50%;\n",
              "      cursor: pointer;\n",
              "      display: none;\n",
              "      fill: #1967D2;\n",
              "      height: 32px;\n",
              "      padding: 0 0 0 0;\n",
              "      width: 32px;\n",
              "    }\n",
              "\n",
              "    .colab-df-convert:hover {\n",
              "      background-color: #E2EBFA;\n",
              "      box-shadow: 0px 1px 2px rgba(60, 64, 67, 0.3), 0px 1px 3px 1px rgba(60, 64, 67, 0.15);\n",
              "      fill: #174EA6;\n",
              "    }\n",
              "\n",
              "    [theme=dark] .colab-df-convert {\n",
              "      background-color: #3B4455;\n",
              "      fill: #D2E3FC;\n",
              "    }\n",
              "\n",
              "    [theme=dark] .colab-df-convert:hover {\n",
              "      background-color: #434B5C;\n",
              "      box-shadow: 0px 1px 3px 1px rgba(0, 0, 0, 0.15);\n",
              "      filter: drop-shadow(0px 1px 2px rgba(0, 0, 0, 0.3));\n",
              "      fill: #FFFFFF;\n",
              "    }\n",
              "  </style>\n",
              "\n",
              "      <script>\n",
              "        const buttonEl =\n",
              "          document.querySelector('#df-7fd56a44-575c-44e5-a879-98bc12f4cd5f button.colab-df-convert');\n",
              "        buttonEl.style.display =\n",
              "          google.colab.kernel.accessAllowed ? 'block' : 'none';\n",
              "\n",
              "        async function convertToInteractive(key) {\n",
              "          const element = document.querySelector('#df-7fd56a44-575c-44e5-a879-98bc12f4cd5f');\n",
              "          const dataTable =\n",
              "            await google.colab.kernel.invokeFunction('convertToInteractive',\n",
              "                                                     [key], {});\n",
              "          if (!dataTable) return;\n",
              "\n",
              "          const docLinkHtml = 'Like what you see? Visit the ' +\n",
              "            '<a target=\"_blank\" href=https://colab.research.google.com/notebooks/data_table.ipynb>data table notebook</a>'\n",
              "            + ' to learn more about interactive tables.';\n",
              "          element.innerHTML = '';\n",
              "          dataTable['output_type'] = 'display_data';\n",
              "          await google.colab.output.renderOutput(dataTable, element);\n",
              "          const docLink = document.createElement('div');\n",
              "          docLink.innerHTML = docLinkHtml;\n",
              "          element.appendChild(docLink);\n",
              "        }\n",
              "      </script>\n",
              "    </div>\n",
              "  </div>\n",
              "  "
            ]
          },
          "metadata": {},
          "execution_count": 22
        }
      ]
    },
    {
      "cell_type": "code",
      "source": [
        "data[data['Sentiments'].isnull()].index.tolist()\n"
      ],
      "metadata": {
        "id": "bnYC1JXPmtw4"
      },
      "execution_count": 75,
      "outputs": []
    },
    {
      "cell_type": "code",
      "source": [
        "data[data['Sentiments'].isna()]"
      ],
      "metadata": {
        "colab": {
          "base_uri": "https://localhost:8080/",
          "height": 81
        },
        "id": "1vD_jm0ZtgN3",
        "outputId": "1c57923e-1ad9-4e18-e7ed-00da054f82f2"
      },
      "execution_count": 77,
      "outputs": [
        {
          "output_type": "execute_result",
          "data": {
            "text/plain": [
              "                                                  Text Sentiments\n",
              "984  i was feeling like i said humour gets me through         NaN"
            ],
            "text/html": [
              "\n",
              "  <div id=\"df-c21c824e-5675-49ff-97ab-1de56a87b574\">\n",
              "    <div class=\"colab-df-container\">\n",
              "      <div>\n",
              "<style scoped>\n",
              "    .dataframe tbody tr th:only-of-type {\n",
              "        vertical-align: middle;\n",
              "    }\n",
              "\n",
              "    .dataframe tbody tr th {\n",
              "        vertical-align: top;\n",
              "    }\n",
              "\n",
              "    .dataframe thead th {\n",
              "        text-align: right;\n",
              "    }\n",
              "</style>\n",
              "<table border=\"1\" class=\"dataframe\">\n",
              "  <thead>\n",
              "    <tr style=\"text-align: right;\">\n",
              "      <th></th>\n",
              "      <th>Text</th>\n",
              "      <th>Sentiments</th>\n",
              "    </tr>\n",
              "  </thead>\n",
              "  <tbody>\n",
              "    <tr>\n",
              "      <th>984</th>\n",
              "      <td>i was feeling like i said humour gets me through</td>\n",
              "      <td>NaN</td>\n",
              "    </tr>\n",
              "  </tbody>\n",
              "</table>\n",
              "</div>\n",
              "      <button class=\"colab-df-convert\" onclick=\"convertToInteractive('df-c21c824e-5675-49ff-97ab-1de56a87b574')\"\n",
              "              title=\"Convert this dataframe to an interactive table.\"\n",
              "              style=\"display:none;\">\n",
              "        \n",
              "  <svg xmlns=\"http://www.w3.org/2000/svg\" height=\"24px\"viewBox=\"0 0 24 24\"\n",
              "       width=\"24px\">\n",
              "    <path d=\"M0 0h24v24H0V0z\" fill=\"none\"/>\n",
              "    <path d=\"M18.56 5.44l.94 2.06.94-2.06 2.06-.94-2.06-.94-.94-2.06-.94 2.06-2.06.94zm-11 1L8.5 8.5l.94-2.06 2.06-.94-2.06-.94L8.5 2.5l-.94 2.06-2.06.94zm10 10l.94 2.06.94-2.06 2.06-.94-2.06-.94-.94-2.06-.94 2.06-2.06.94z\"/><path d=\"M17.41 7.96l-1.37-1.37c-.4-.4-.92-.59-1.43-.59-.52 0-1.04.2-1.43.59L10.3 9.45l-7.72 7.72c-.78.78-.78 2.05 0 2.83L4 21.41c.39.39.9.59 1.41.59.51 0 1.02-.2 1.41-.59l7.78-7.78 2.81-2.81c.8-.78.8-2.07 0-2.86zM5.41 20L4 18.59l7.72-7.72 1.47 1.35L5.41 20z\"/>\n",
              "  </svg>\n",
              "      </button>\n",
              "      \n",
              "  <style>\n",
              "    .colab-df-container {\n",
              "      display:flex;\n",
              "      flex-wrap:wrap;\n",
              "      gap: 12px;\n",
              "    }\n",
              "\n",
              "    .colab-df-convert {\n",
              "      background-color: #E8F0FE;\n",
              "      border: none;\n",
              "      border-radius: 50%;\n",
              "      cursor: pointer;\n",
              "      display: none;\n",
              "      fill: #1967D2;\n",
              "      height: 32px;\n",
              "      padding: 0 0 0 0;\n",
              "      width: 32px;\n",
              "    }\n",
              "\n",
              "    .colab-df-convert:hover {\n",
              "      background-color: #E2EBFA;\n",
              "      box-shadow: 0px 1px 2px rgba(60, 64, 67, 0.3), 0px 1px 3px 1px rgba(60, 64, 67, 0.15);\n",
              "      fill: #174EA6;\n",
              "    }\n",
              "\n",
              "    [theme=dark] .colab-df-convert {\n",
              "      background-color: #3B4455;\n",
              "      fill: #D2E3FC;\n",
              "    }\n",
              "\n",
              "    [theme=dark] .colab-df-convert:hover {\n",
              "      background-color: #434B5C;\n",
              "      box-shadow: 0px 1px 3px 1px rgba(0, 0, 0, 0.15);\n",
              "      filter: drop-shadow(0px 1px 2px rgba(0, 0, 0, 0.3));\n",
              "      fill: #FFFFFF;\n",
              "    }\n",
              "  </style>\n",
              "\n",
              "      <script>\n",
              "        const buttonEl =\n",
              "          document.querySelector('#df-c21c824e-5675-49ff-97ab-1de56a87b574 button.colab-df-convert');\n",
              "        buttonEl.style.display =\n",
              "          google.colab.kernel.accessAllowed ? 'block' : 'none';\n",
              "\n",
              "        async function convertToInteractive(key) {\n",
              "          const element = document.querySelector('#df-c21c824e-5675-49ff-97ab-1de56a87b574');\n",
              "          const dataTable =\n",
              "            await google.colab.kernel.invokeFunction('convertToInteractive',\n",
              "                                                     [key], {});\n",
              "          if (!dataTable) return;\n",
              "\n",
              "          const docLinkHtml = 'Like what you see? Visit the ' +\n",
              "            '<a target=\"_blank\" href=https://colab.research.google.com/notebooks/data_table.ipynb>data table notebook</a>'\n",
              "            + ' to learn more about interactive tables.';\n",
              "          element.innerHTML = '';\n",
              "          dataTable['output_type'] = 'display_data';\n",
              "          await google.colab.output.renderOutput(dataTable, element);\n",
              "          const docLink = document.createElement('div');\n",
              "          docLink.innerHTML = docLinkHtml;\n",
              "          element.appendChild(docLink);\n",
              "        }\n",
              "      </script>\n",
              "    </div>\n",
              "  </div>\n",
              "  "
            ]
          },
          "metadata": {},
          "execution_count": 77
        }
      ]
    },
    {
      "cell_type": "code",
      "source": [
        "data['Sentiments']=data['Sentiments'].fillna(\"joy\")"
      ],
      "metadata": {
        "id": "QZ6gug8opJOx"
      },
      "execution_count": 78,
      "outputs": []
    },
    {
      "cell_type": "code",
      "source": [
        "uni=data['Sentiments'].unique()\n",
        "uni"
      ],
      "metadata": {
        "colab": {
          "base_uri": "https://localhost:8080/"
        },
        "id": "tLPfaOmfplQb",
        "outputId": "d8587781-5df5-498e-8e4c-8cafda3bdf2c"
      },
      "execution_count": 96,
      "outputs": [
        {
          "output_type": "execute_result",
          "data": {
            "text/plain": [
              "array(['sadness', 'joy', 'fear', 'anger', 'love', 'surprise'],\n",
              "      dtype=object)"
            ]
          },
          "metadata": {},
          "execution_count": 96
        }
      ]
    },
    {
      "cell_type": "code",
      "source": [
        "data[\"Sentiments\"]=data.Sentiments.replace({'sadness':0, 'joy':1, 'fear':2, 'anger':3, 'love':4, 'surprise':5})"
      ],
      "metadata": {
        "id": "HaoYjj25qkHL"
      },
      "execution_count": 100,
      "outputs": []
    },
    {
      "cell_type": "code",
      "source": [
        "\n",
        "from tensorflow.keras.losses import CategoricalCrossentropy\n",
        "\n"
      ],
      "metadata": {
        "id": "H6wQA5Q3w6IQ"
      },
      "execution_count": 104,
      "outputs": []
    },
    {
      "cell_type": "code",
      "source": [
        "X=data[\"Text\"]\n"
      ],
      "metadata": {
        "id": "lOOImDwJz5V-"
      },
      "execution_count": 105,
      "outputs": []
    },
    {
      "cell_type": "code",
      "source": [
        "from keras.preprocessing.text import Tokenizer"
      ],
      "metadata": {
        "id": "Q1U_KAHs1L6c"
      },
      "execution_count": 108,
      "outputs": []
    },
    {
      "cell_type": "code",
      "source": [
        "toknaizer=Tokenizer(15212,lower=True,oov_token='UNK')\n",
        "toknaizer"
      ],
      "metadata": {
        "colab": {
          "base_uri": "https://localhost:8080/"
        },
        "id": "6amJOCMF0y4a",
        "outputId": "c7dcb4df-7120-4c8f-85c8-bc6af47f7bc2"
      },
      "execution_count": 112,
      "outputs": [
        {
          "output_type": "execute_result",
          "data": {
            "text/plain": [
              "<keras_preprocessing.text.Tokenizer at 0x7fbca67d8110>"
            ]
          },
          "metadata": {},
          "execution_count": 112
        }
      ]
    },
    {
      "cell_type": "code",
      "source": [
        "toknaizer.fit_on_texts(X)"
      ],
      "metadata": {
        "id": "YoiCpNLO1dvd"
      },
      "execution_count": 113,
      "outputs": []
    },
    {
      "cell_type": "code",
      "source": [
        "X_train=toknaizer.texts_to_sequences(X)"
      ],
      "metadata": {
        "id": "DYI_h_t52A94"
      },
      "execution_count": 125,
      "outputs": []
    },
    {
      "cell_type": "code",
      "source": [
        "from keras.preprocessing.sequence import pad_sequences\n",
        "X_train_paddin=pad_sequences(X_train,maxlen=110,padding='pre')"
      ],
      "metadata": {
        "id": "tI-87akL2i6t"
      },
      "execution_count": 169,
      "outputs": []
    },
    {
      "cell_type": "code",
      "source": [
        "X_train_paddin"
      ],
      "metadata": {
        "colab": {
          "base_uri": "https://localhost:8080/"
        },
        "id": "BGS-rKVf2j3W",
        "outputId": "b7da862f-a1e1-422d-e2fd-893ab6f31e44"
      },
      "execution_count": 170,
      "outputs": [
        {
          "output_type": "execute_result",
          "data": {
            "text/plain": [
              "array([[   0,    0,    0, ..., 1276,  104,   59],\n",
              "       [   0,    0,    0, ...,    2,    3,  620],\n",
              "       [   0,    0,    0, ...,  621,   19,   64],\n",
              "       ...,\n",
              "       [   0,    0,    0, ...,   87, 1100, 3272],\n",
              "       [   0,    0,    0, ...,  359,  294,   59],\n",
              "       [   0,    0,    0, ...,  600,   17,  215]], dtype=int32)"
            ]
          },
          "metadata": {},
          "execution_count": 170
        }
      ]
    },
    {
      "cell_type": "code",
      "source": [
        "\n",
        "\n",
        "\n",
        "y_train=data['Sentiments'].values\n",
        "# y_train"
      ],
      "metadata": {
        "id": "V4Jowm9_I0uA"
      },
      "execution_count": 171,
      "outputs": []
    },
    {
      "cell_type": "code",
      "source": [
        "\n",
        "\n",
        "# convert class vector in to binary class metrics\n",
        "\n",
        "y_train_cate=to_categorical(y_train)\n",
        "y_train_cate"
      ],
      "metadata": {
        "colab": {
          "base_uri": "https://localhost:8080/"
        },
        "id": "UTzf_aVUJTyD",
        "outputId": "19331d7b-759e-40ec-b085-80f8cbf1a665"
      },
      "execution_count": 172,
      "outputs": [
        {
          "output_type": "execute_result",
          "data": {
            "text/plain": [
              "array([[1., 0., 0., 0., 0., 0.],\n",
              "       [1., 0., 0., 0., 0., 0.],\n",
              "       [1., 0., 0., 0., 0., 0.],\n",
              "       ...,\n",
              "       [0., 0., 0., 0., 1., 0.],\n",
              "       [1., 0., 0., 0., 0., 0.],\n",
              "       [0., 1., 0., 0., 0., 0.]], dtype=float32)"
            ]
          },
          "metadata": {},
          "execution_count": 172
        }
      ]
    },
    {
      "cell_type": "code",
      "source": [
        ""
      ],
      "metadata": {
        "id": "EmeiFGHLJngB"
      },
      "execution_count": 172,
      "outputs": []
    },
    {
      "cell_type": "code",
      "source": [
        "from tensorflow.keras import Sequential"
      ],
      "metadata": {
        "id": "IUkfh8vdKFdF"
      },
      "execution_count": 173,
      "outputs": []
    },
    {
      "cell_type": "code",
      "source": [
        "\n",
        "from tensorflow.keras.layers import  Flatten,LSTM,Bidirectional,Embedding,Dense,Dropout\n",
        "from tensorflow.keras.optimizers import Adam"
      ],
      "metadata": {
        "id": "cdDBfP2lKMVz"
      },
      "execution_count": 179,
      "outputs": []
    },
    {
      "cell_type": "code",
      "source": [
        "model=Sequential()"
      ],
      "metadata": {
        "id": "vtPR2J48KT0H"
      },
      "execution_count": 175,
      "outputs": []
    },
    {
      "cell_type": "code",
      "source": [
        "model.add(Embedding(15212,64,input_length=110))\n",
        "# over fit converting (drop)\n",
        "model.add(Dropout(0.3))\n",
        "model.add(Bidirectional(LSTM(100,return_sequences=True)))\n",
        "model.add(Bidirectional(LSTM(160)))\n",
        "# fully connection layer (dense)\n",
        "model.add(Dense(6,activation=\"sigmoid\"))"
      ],
      "metadata": {
        "id": "kJ3YEetOKYD3"
      },
      "execution_count": 176,
      "outputs": []
    },
    {
      "cell_type": "code",
      "source": [
        "model.summary()"
      ],
      "metadata": {
        "colab": {
          "base_uri": "https://localhost:8080/"
        },
        "id": "92N42UunLC4O",
        "outputId": "e11550eb-6cc4-4bd1-cdf2-0afd949ac35c"
      },
      "execution_count": 178,
      "outputs": [
        {
          "output_type": "stream",
          "name": "stdout",
          "text": [
            "Model: \"sequential_3\"\n",
            "_________________________________________________________________\n",
            " Layer (type)                Output Shape              Param #   \n",
            "=================================================================\n",
            " embedding_15 (Embedding)    (None, 110, 64)           973568    \n",
            "                                                                 \n",
            " dropout_12 (Dropout)        (None, 110, 64)           0         \n",
            "                                                                 \n",
            " bidirectional_13 (Bidirecti  (None, 110, 200)         132000    \n",
            " onal)                                                           \n",
            "                                                                 \n",
            " bidirectional_14 (Bidirecti  (None, 320)              462080    \n",
            " onal)                                                           \n",
            "                                                                 \n",
            " dense_1 (Dense)             (None, 6)                 1926      \n",
            "                                                                 \n",
            "=================================================================\n",
            "Total params: 1,569,574\n",
            "Trainable params: 1,569,574\n",
            "Non-trainable params: 0\n",
            "_________________________________________________________________\n"
          ]
        }
      ]
    },
    {
      "cell_type": "code",
      "source": [
        "# loss minimising\n",
        "model.compile(optimizer=Adam(),loss=CategoricalCrossentropy(),metrics=['accuracy'])"
      ],
      "metadata": {
        "id": "A6JPKxqWOF7j"
      },
      "execution_count": 180,
      "outputs": []
    },
    {
      "cell_type": "code",
      "source": [
        "model.fit(X_train_paddin,y_train_cate,epochs=9)"
      ],
      "metadata": {
        "colab": {
          "base_uri": "https://localhost:8080/"
        },
        "id": "JiCJza9UPHW_",
        "outputId": "caf3ad17-cf33-47de-fd14-eebd36996333"
      },
      "execution_count": 182,
      "outputs": [
        {
          "output_type": "stream",
          "name": "stdout",
          "text": [
            "Epoch 1/9\n",
            "31/31 [==============================] - 32s 734ms/step - loss: 1.6048 - accuracy: 0.3086\n",
            "Epoch 2/9\n",
            "31/31 [==============================] - 23s 744ms/step - loss: 1.5657 - accuracy: 0.3391\n",
            "Epoch 3/9\n",
            "31/31 [==============================] - 22s 725ms/step - loss: 1.4306 - accuracy: 0.4508\n",
            "Epoch 4/9\n",
            "31/31 [==============================] - 23s 737ms/step - loss: 0.9956 - accuracy: 0.6365\n",
            "Epoch 5/9\n",
            "31/31 [==============================] - 23s 742ms/step - loss: 0.6358 - accuracy: 0.7513\n",
            "Epoch 6/9\n",
            "31/31 [==============================] - 24s 761ms/step - loss: 0.4405 - accuracy: 0.8406\n",
            "Epoch 7/9\n",
            "31/31 [==============================] - 23s 749ms/step - loss: 0.3573 - accuracy: 0.8832\n",
            "Epoch 8/9\n",
            "31/31 [==============================] - 23s 732ms/step - loss: 0.2228 - accuracy: 0.9299\n",
            "Epoch 9/9\n",
            "31/31 [==============================] - 23s 750ms/step - loss: 0.1486 - accuracy: 0.9543\n"
          ]
        },
        {
          "output_type": "execute_result",
          "data": {
            "text/plain": [
              "<keras.callbacks.History at 0x7fbca06b1f50>"
            ]
          },
          "metadata": {},
          "execution_count": 182
        }
      ]
    },
    {
      "cell_type": "code",
      "source": [
        "def chatbot(word):\n",
        "  dict={'sadness':0, 'joy':1, 'fear':2, 'anger':3, 'love':4, 'surprise':5}\n",
        "  for i ,j in dict.items():\n",
        "    if j==word:\n",
        "      return i\n",
        "\n",
        "\n"
      ],
      "metadata": {
        "id": "iwEuQTeVPXod"
      },
      "execution_count": 205,
      "outputs": []
    },
    {
      "cell_type": "code",
      "source": [
        "def prediction(sendence):\n",
        "  empty_list=[]\n",
        "  empty_list.append(sendence)\n",
        "  # text to converting to sequance of intigers\n",
        "  sendence_toknize=toknaizer.texts_to_sequences(empty_list)\n",
        "  padded_sequnce=pad_sequences(sendence_toknize,maxlen=110,padding='pre')\n",
        "  predicted=model.predict(padded_sequnce)\n",
        "  results=np.argmax(predicted,axis=1)\n",
        "  result=chatbot(results)\n",
        "  return result"
      ],
      "metadata": {
        "id": "W7XHtVpEREah"
      },
      "execution_count": 215,
      "outputs": []
    },
    {
      "cell_type": "code",
      "source": [
        "from IPython.display import clear_output\n",
        "input_sentence=print(\"hai what is your name :\")\n",
        "user=input()\n",
        "input_sentimatal=input(\"how are you feeling today \")\n",
        "result=prediction(input_sentimatal)\n",
        "\n",
        "if result==\"sadness\" or result=='anger' or result==\"fear\":\n",
        "  print(\"what happend \"+user+'?')\n",
        "  response=input()\n",
        "  print(\"hey \" +user+ ' am her for you.everyone has a hard time in the life ,\"This time will also pass\"')\n",
        "  assistent=print('Do you need any assistance ')\n",
        "  assistent=input()\n",
        "  if assistent=='N' or assistent=='n' or assistent=='no' or assistent=='No' or assistent==\"NO\":\n",
        "    print('okay , bye '+ user + \"have a nice day \")\n",
        "  elif assistent=='Y' or assistent=='y' or assistent=='yes' or assistent=='Yes' or assistent==\"YES\":\n",
        "    print('How can i help you ')\n",
        "    print('\\n')\n",
        "    print(\"1 . Do you want to talk with me\")\n",
        "    print('2 . Do you want to listen music')\n",
        "    response=input()\n",
        "    if response=='1':\n",
        "      print(\"tell me \" + user )\n",
        "      response=input()\n",
        "      if response==\"what is your name\" or response==\"how are you \":\n",
        "        print('am chatbot  am good ')\n",
        "\n",
        "\n",
        "    elif response=='2':\n",
        "      print('Johny, Johny (Yes, papa)Eating sugar?(No, papa)Telling lies?(No, papa)''\\n''Open your mouth(Ah, ah, ah)Johny, Johny(Yes, papa)Eating sugar?(No, papa)''\\n''Telling lies?(No, papa)Open your mouth(Ah, ah, ah)')\n",
        "else:\n",
        "  print(\"oh \"+user + \"your are happy person by friends\")\n",
        "\n"
      ],
      "metadata": {
        "colab": {
          "base_uri": "https://localhost:8080/"
        },
        "id": "oPvkLUF5TWQV",
        "outputId": "e662325d-0fed-44f1-ae52-f4bdf3ddaea7"
      },
      "execution_count": 225,
      "outputs": [
        {
          "output_type": "stream",
          "name": "stdout",
          "text": [
            "hai what is your name :\n",
            "abdu\n",
            "how are you feeling today angry\n",
            "what happend abdu?\n",
            "cheat me\n",
            "hey abdu am her for you.everyone has a hard time in the life ,\"This time will also pass\"\n",
            "Do you need any assistance \n",
            "yes\n",
            "How can i help you \n",
            "\n",
            "\n",
            "1 . Do you want to talk with me\n",
            "2 . Do you want to listen music\n",
            "2\n",
            "Johny, Johny (Yes, papa)Eating sugar?(No, papa)Telling lies?(No, papa)\n",
            "Open your mouth(Ah, ah, ah)Johny, Johny(Yes, papa)Eating sugar?(No, papa)\n",
            "Telling lies?(No, papa)Open your mouth(Ah, ah, ah)\n"
          ]
        }
      ]
    },
    {
      "cell_type": "code",
      "source": [
        ""
      ],
      "metadata": {
        "id": "aln3sx0WVo8y"
      },
      "execution_count": null,
      "outputs": []
    }
  ]
}